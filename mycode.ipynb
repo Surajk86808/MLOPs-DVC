{
 "cells": [
  {
   "cell_type": "code",
   "execution_count": 2,
   "id": "a555528d",
   "metadata": {},
   "outputs": [],
   "source": [
    "import pandas as pd\n",
    "import os"
   ]
  },
  {
   "cell_type": "code",
   "execution_count": 3,
   "id": "2088d6d4",
   "metadata": {},
   "outputs": [],
   "source": [
    "data = {\n",
    "    'Name' : ['Alice','Bob','Charlie'],\n",
    "    'City' : ['New York', 'Los Angeles', 'Chicago'],\n",
    "    'Age'  : [30, 25, 40]\n",
    "}"
   ]
  },
  {
   "cell_type": "code",
   "execution_count": 4,
   "id": "1d869d2b",
   "metadata": {},
   "outputs": [],
   "source": [
    "df = pd.DataFrame(data)"
   ]
  },
  {
   "cell_type": "code",
   "execution_count": 5,
   "id": "ca83dc30",
   "metadata": {},
   "outputs": [],
   "source": [
    "data_dir = 'data'\n",
    "os.makedirs(data_dir, exist_ok=True)"
   ]
  },
  {
   "cell_type": "code",
   "execution_count": 7,
   "id": "b8e968bd",
   "metadata": {},
   "outputs": [],
   "source": [
    "file_path = os.path.join(data_dir,'sample_data.csv')"
   ]
  },
  {
   "cell_type": "code",
   "execution_count": 8,
   "id": "48eecf96",
   "metadata": {},
   "outputs": [
    {
     "name": "stdout",
     "output_type": "stream",
     "text": [
      "CSV file saved to data\\sample_data.csv\n"
     ]
    }
   ],
   "source": [
    "df.to_csv(file_path, index=False)\n",
    "print(f\"CSV file saved to {file_path}\")"
   ]
  }
 ],
 "metadata": {
  "kernelspec": {
   "display_name": "base",
   "language": "python",
   "name": "python3"
  },
  "language_info": {
   "codemirror_mode": {
    "name": "ipython",
    "version": 3
   },
   "file_extension": ".py",
   "mimetype": "text/x-python",
   "name": "python",
   "nbconvert_exporter": "python",
   "pygments_lexer": "ipython3",
   "version": "3.12.7"
  }
 },
 "nbformat": 4,
 "nbformat_minor": 5
}
